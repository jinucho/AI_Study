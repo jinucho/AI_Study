{
 "cells": [
  {
   "cell_type": "markdown",
   "metadata": {},
   "source": [
    "# Google Promping Engineering\n",
    "\n",
    "- 저자 : Lee Boonstra\n",
    "- 번역 및 정리 : [Jinu Cho](https://github.com/jinucho)\n",
    "\n",
    "## Description\n",
    "\n",
    "- 본 노트북은 Google에서 발표한 2025년 프롬프트 엔지니어링 백서를 기반으로 다양한 프롬프트 작성 기법을 정리하고, 이를 Python 코드 예제와 함께 소개합니다. <br>Zero-Shot, COT... 등 주요 전략들을 이해하고, LangChain 등 라이브러리와의 연계를 고려한 실제 적용 방안도 간략히 다룹니다.\n",
    "\n",
    "---\n",
    "\n",
    "## Table of Contents\n",
    "\n",
    "- 1. [Introduction to Prompt Engineering](#1-introduction-to-prompt-engineering)\n",
    "- 2. [LLM Output Configuration](#2-llm-output-configuration)\n",
    "    - Output Length\n",
    "    - Temperature / Top-K / Top-P\n",
    "\n",
    "- 3. [Prompting Techniques](#3-prompting-techniques)\n",
    "    - Zero-shot Prompting\n",
    "    - One-shot & Few-shot Prompting\n",
    "    - System Prompting\n",
    "    - Role Prompting\n",
    "    - Contextual Prompting\n",
    "\n",
    "- 4. [Advanced Prompting Methods](#4-advanced-prompting-methods)\n",
    "    - Step-back Prompting\n",
    "    - Chain of Thought (CoT)\n",
    "    - Self-consistency Prompting\n",
    "    - Tree of Thoughts (ToT)\n",
    "    - ReAct Prompting\n",
    "\n",
    "- 5. [Automated Prompt Design](#5-automated-prompt-design)\n",
    "    - Automatic Prompt Engineering (APE)\n",
    "\n",
    "- 6. [Code-Oriented Prompting](#6-code-oriented-prompting)\n",
    "    - Writing Code\n",
    "    - Explaining Code\n",
    "    - Translating Code\n",
    "    - Debugging Code\n",
    "\n",
    "- 7. [Multimodal Prompting](#7-multimodal-prompting)\n",
    "\n",
    "- 8. [Best Practices](#8-best-practices)\n",
    "    - Prompt Examples\n",
    "    - Simplified Design\n",
    "    - Output Specificity\n",
    "    - Instruction over Constraint\n",
    "    - Max Token & Variables\n",
    "\n",
    "- 9. [Structured Outputs](#9-structured-outputs)\n",
    "    - JSON Repair\n",
    "    - Working with Schemas\n",
    "\n",
    "- 10. [Prompt Collaboration & Versioning](#10-prompt-collaboration--versioning)\n",
    "    - CoT Best Practices\n",
    "    - Prompt Logging\n",
    "\n",
    "- 11. [Final Summary](#11-final-summary)\n",
    "\n",
    "---\n",
    "\n",
    "## Reference\n",
    "- [Kaggle](https://www.kaggle.com/whitepaper-prompt-engineering)\n",
    "\n",
    "---"
   ]
  },
  {
   "cell_type": "markdown",
   "metadata": {},
   "source": [
    "## 1. Introduction to Prompt Engineering\n",
    "\n",
    "### 핵심 개념\n",
    "- 프롬프트는 텍스트(또는 이미지 등 다른 형식 포함)로 된 입력이며, LLM이 그에 대한 응답을 생성합니다.\n",
    "- 모든 사람이 프롬프트를 작성할 수 있지만, 효과적인 프롬프트 작성은 쉽지 않음.\n",
    "- 모델, 구성 옵션, 단어 선택, 스타일, 구조, 맥락 등이 응답 품질에 영향을 줌.\n",
    "- 프롬프트 엔지니어링은 반복적인 실험을 통해 최적의 결과를 찾는 과정입니다.\n",
    "\n",
    "---"
   ]
  },
  {
   "cell_type": "markdown",
   "metadata": {},
   "source": [
    "## 2. LLM Output Configuration\n",
    "\n",
    "### 출력 길이(Output Length)\n",
    "- 응답 길이를 조절하는 설정.\n",
    "- 길이가 길수록 연산량 증가 → 속도 저하 및 비용 증가 가능.\n",
    "- 짧게 제한하면 간결해지는 것이 아니라 예측이 중단될 뿐임.\n",
    "- 예: ReAct 등에서는 의미 없는 토큰이 계속 나올 수 있어 출력 길이 제한이 중요함.\n",
    "\n",
    "### 샘플링 제어(Sampling Controls)\n",
    "- LLM은 다음 토큰을 하나만 정하지 않고 확률 분포로 예측 → 이 중 하나를 선택하는 방식.\n",
    "- 주요 설정:\n",
    "    - Temperature: 낮을수록 결정적, 높을수록 다양성 증가.\n",
    "    - Top-K: 확률 상위 K개의 토큰 중에서 선택.\n",
    "    - Top-P (Nucleus Sampling): 누적 확률이 P 이하인 토큰 중에서 선택.\n",
    "\n",
    "### 추천 설정 값\n",
    "- 창의성과 일관성 균형:\n",
    "    - temperature=0.2, top_p=0.95, top_k=30\n",
    "- 높은 창의성 필요 시:\n",
    "    - temperature=0.9, top_p=0.99, top_k=40\n",
    "- 결정적 응답이 필요한 수학 문제 등:\n",
    "    - temperature=0, top_p=1, top_k=1"
   ]
  },
  {
   "cell_type": "markdown",
   "metadata": {},
   "source": [
    "## 3. Prompting Techniques\n",
    "\n",
    "\n",
    "### 3-1. Zero-Shot Prompt\n",
    "- 설명:\n",
    "    - 예시 없이 단순한 지시문만 포함된 가장 기본적인 형태.\n",
    "    - 명확한 지시가 있을 경우 간단한 분류 작업에 효과적.\n",
    "\n",
    "- 예시:\n",
    "```python\n",
    "prompt = \"\"\"Classify movie reviews as POSITIVE, NEUTRAL or NEGATIVE.\n",
    "Review: \"Her\" is a disturbing study revealing the direction\n",
    "humanity is headed if AI is allowed to keep evolving, unchecked. \n",
    "I wish there were more movies like this masterpiece.\n",
    "Sentiment:\"\"\"\n",
    "결과 : POSITIVE"
   ]
  },
  {
   "cell_type": "markdown",
   "metadata": {},
   "source": [
    "## 4. Advanced Prompting Methods"
   ]
  },
  {
   "cell_type": "markdown",
   "metadata": {},
   "source": [
    "## 5. Automated Prompt Design"
   ]
  },
  {
   "cell_type": "markdown",
   "metadata": {},
   "source": [
    "## 6. Code-Oriented Prompting"
   ]
  },
  {
   "cell_type": "markdown",
   "metadata": {},
   "source": [
    "## 7. Multimodal Prompting"
   ]
  },
  {
   "cell_type": "markdown",
   "metadata": {},
   "source": [
    "## 8. Best Practices"
   ]
  },
  {
   "cell_type": "markdown",
   "metadata": {},
   "source": [
    "## 9. Structured Outputs"
   ]
  },
  {
   "cell_type": "markdown",
   "metadata": {},
   "source": [
    "## 10. Prompt Collaboration & Versioning"
   ]
  },
  {
   "cell_type": "markdown",
   "metadata": {},
   "source": [
    "## 11. Final Summary"
   ]
  },
  {
   "cell_type": "markdown",
   "metadata": {},
   "source": []
  }
 ],
 "metadata": {
  "kernelspec": {
   "display_name": "meokten",
   "language": "python",
   "name": "python3"
  },
  "language_info": {
   "name": "python",
   "version": "3.11.8"
  }
 },
 "nbformat": 4,
 "nbformat_minor": 2
}
